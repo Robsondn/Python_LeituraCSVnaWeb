{
 "cells": [
  {
   "cell_type": "markdown",
   "id": "a6d10c54-b7dd-4a5b-8c50-7d25c3a692f3",
   "metadata": {},
   "source": [
    "# **Lendo CSV**"
   ]
  },
  {
   "cell_type": "markdown",
   "id": "090454a2-b3c2-435c-b89e-4296cb8fe0f4",
   "metadata": {},
   "source": [
    "# **BNDESPar**"
   ]
  },
  {
   "cell_type": "markdown",
   "id": "ac454a04-ec73-4f56-9531-39b9652b7beb",
   "metadata": {},
   "source": [
    "- https://pt.wikipedia.org/wiki/Banco_Nacional_de_Desenvolvimento_Econ%C3%B4mico_e_Social\n",
    "- https://pt.wikipedia.org/wiki/BNDESPAR\n",
    "- https://dados.gov.br/dataset/renda-variavel\n",
    "- https://dadosabertos.bndes.gov.br/dataset/68a85772-df73-4c8b-8b8c-398f494fcca8/resource/10ff2d60-02d1-4619-8e42-24fc2a5927dd/download/renda-variavel-participacoes-acionarias-historico-da-carteira.csv\n",
    "- https://www.bndes.gov.br/wps/portal/site/home/transparencia/consulta-operacoes-bndes/carteira-acionaria\n"
   ]
  },
  {
   "cell_type": "code",
   "execution_count": 1,
   "id": "d3425ada-e488-4509-8e24-8ae77ca6185c",
   "metadata": {},
   "outputs": [],
   "source": [
    "import pandas as pd"
   ]
  },
  {
   "cell_type": "code",
   "execution_count": 2,
   "id": "6011ab94-4008-49a8-8e34-ae248454fc7b",
   "metadata": {},
   "outputs": [
    {
     "data": {
      "text/html": [
       "<div>\n",
       "<style scoped>\n",
       "    .dataframe tbody tr th:only-of-type {\n",
       "        vertical-align: middle;\n",
       "    }\n",
       "\n",
       "    .dataframe tbody tr th {\n",
       "        vertical-align: top;\n",
       "    }\n",
       "\n",
       "    .dataframe thead th {\n",
       "        text-align: right;\n",
       "    }\n",
       "</style>\n",
       "<table border=\"1\" class=\"dataframe\">\n",
       "  <thead>\n",
       "    <tr style=\"text-align: right;\">\n",
       "      <th></th>\n",
       "      <th>sigla</th>\n",
       "      <th>razao_social</th>\n",
       "      <th>cnpj</th>\n",
       "      <th>tipo_de_ativo</th>\n",
       "      <th>ano</th>\n",
       "      <th>setor_de_atividade</th>\n",
       "      <th>total_pp</th>\n",
       "      <th>on_pp</th>\n",
       "      <th>pn_pp</th>\n",
       "      <th>aberta_fechada</th>\n",
       "      <th>acordo_de_acionistas_em_vigor</th>\n",
       "      <th>indicado_para_conselho_de_administracao</th>\n",
       "      <th>indicado_para_conselho_fiscal</th>\n",
       "    </tr>\n",
       "  </thead>\n",
       "  <tbody>\n",
       "    <tr>\n",
       "      <th>0</th>\n",
       "      <td>ABICO</td>\n",
       "      <td>COMPANHIA DE INVESTIMENTOS ARABE E BRASILEIRA</td>\n",
       "      <td>42.470.443/0001-96</td>\n",
       "      <td>PARTICIPAÇÃO ACIONÁRIA</td>\n",
       "      <td>2024</td>\n",
       "      <td>OUTROS SETORES</td>\n",
       "      <td>35.0</td>\n",
       "      <td>35.0</td>\n",
       "      <td>0.0</td>\n",
       "      <td>FECHADA</td>\n",
       "      <td>NÃO</td>\n",
       "      <td>NÃO</td>\n",
       "      <td>NÃO</td>\n",
       "    </tr>\n",
       "    <tr>\n",
       "      <th>1</th>\n",
       "      <td>ABICO</td>\n",
       "      <td>ABICO - CIA. DE INVESTIMENTOS ÁRABE E BRASILEIRO</td>\n",
       "      <td>42.470.443/0001-96</td>\n",
       "      <td>PARTICIPAÇÃO ACIONÁRIA</td>\n",
       "      <td>2023</td>\n",
       "      <td>OUTROS SETORES</td>\n",
       "      <td>35.0</td>\n",
       "      <td>35.0</td>\n",
       "      <td>0.0</td>\n",
       "      <td>FECHADA</td>\n",
       "      <td>NÃO</td>\n",
       "      <td>NÃO</td>\n",
       "      <td>NÃO</td>\n",
       "    </tr>\n",
       "    <tr>\n",
       "      <th>2</th>\n",
       "      <td>ABICO</td>\n",
       "      <td>ABICO - CIA. DE INVESTIMENTOS ÁRABE E BRASILEIRO</td>\n",
       "      <td>42.470.443/0001-96</td>\n",
       "      <td>PARTICIPAÇÃO ACIONÁRIA</td>\n",
       "      <td>2022</td>\n",
       "      <td>OUTROS SETORES</td>\n",
       "      <td>35.0</td>\n",
       "      <td>35.0</td>\n",
       "      <td>0.0</td>\n",
       "      <td>FECHADA</td>\n",
       "      <td>NÃO</td>\n",
       "      <td>NÃO</td>\n",
       "      <td>NÃO</td>\n",
       "    </tr>\n",
       "    <tr>\n",
       "      <th>3</th>\n",
       "      <td>ABICO</td>\n",
       "      <td>ABICO - CIA. DE INVESTIMENTOS ÁRABE E BRASILEIRO</td>\n",
       "      <td>42.470.443/0001-96</td>\n",
       "      <td>PARTICIPAÇÃO ACIONÁRIA</td>\n",
       "      <td>2021</td>\n",
       "      <td>OUTROS SETORES</td>\n",
       "      <td>35.0</td>\n",
       "      <td>35.0</td>\n",
       "      <td>0.0</td>\n",
       "      <td>FECHADA</td>\n",
       "      <td>NÃO</td>\n",
       "      <td>NÃO</td>\n",
       "      <td>NÃO</td>\n",
       "    </tr>\n",
       "    <tr>\n",
       "      <th>4</th>\n",
       "      <td>ABICO</td>\n",
       "      <td>ABICO - CIA. DE INVESTIMENTOS ÁRABE E BRASILEIRO</td>\n",
       "      <td>42.470.443/0001-96</td>\n",
       "      <td>PARTICIPAÇÃO ACIONÁRIA</td>\n",
       "      <td>2020</td>\n",
       "      <td>OUTROS SETORES</td>\n",
       "      <td>35.0</td>\n",
       "      <td>35.0</td>\n",
       "      <td>0.0</td>\n",
       "      <td>FECHADA</td>\n",
       "      <td>NÃO</td>\n",
       "      <td>NÃO</td>\n",
       "      <td>NÃO</td>\n",
       "    </tr>\n",
       "  </tbody>\n",
       "</table>\n",
       "</div>"
      ],
      "text/plain": [
       "   sigla                                      razao_social  \\\n",
       "0  ABICO     COMPANHIA DE INVESTIMENTOS ARABE E BRASILEIRA   \n",
       "1  ABICO  ABICO - CIA. DE INVESTIMENTOS ÁRABE E BRASILEIRO   \n",
       "2  ABICO  ABICO - CIA. DE INVESTIMENTOS ÁRABE E BRASILEIRO   \n",
       "3  ABICO  ABICO - CIA. DE INVESTIMENTOS ÁRABE E BRASILEIRO   \n",
       "4  ABICO  ABICO - CIA. DE INVESTIMENTOS ÁRABE E BRASILEIRO   \n",
       "\n",
       "                 cnpj           tipo_de_ativo   ano setor_de_atividade  \\\n",
       "0  42.470.443/0001-96  PARTICIPAÇÃO ACIONÁRIA  2024     OUTROS SETORES   \n",
       "1  42.470.443/0001-96  PARTICIPAÇÃO ACIONÁRIA  2023     OUTROS SETORES   \n",
       "2  42.470.443/0001-96  PARTICIPAÇÃO ACIONÁRIA  2022     OUTROS SETORES   \n",
       "3  42.470.443/0001-96  PARTICIPAÇÃO ACIONÁRIA  2021     OUTROS SETORES   \n",
       "4  42.470.443/0001-96  PARTICIPAÇÃO ACIONÁRIA  2020     OUTROS SETORES   \n",
       "\n",
       "   total_pp  on_pp  pn_pp aberta_fechada acordo_de_acionistas_em_vigor  \\\n",
       "0      35.0   35.0    0.0        FECHADA                           NÃO   \n",
       "1      35.0   35.0    0.0        FECHADA                           NÃO   \n",
       "2      35.0   35.0    0.0        FECHADA                           NÃO   \n",
       "3      35.0   35.0    0.0        FECHADA                           NÃO   \n",
       "4      35.0   35.0    0.0        FECHADA                           NÃO   \n",
       "\n",
       "  indicado_para_conselho_de_administracao indicado_para_conselho_fiscal  \n",
       "0                                     NÃO                           NÃO  \n",
       "1                                     NÃO                           NÃO  \n",
       "2                                     NÃO                           NÃO  \n",
       "3                                     NÃO                           NÃO  \n",
       "4                                     NÃO                           NÃO  "
      ]
     },
     "execution_count": 2,
     "metadata": {},
     "output_type": "execute_result"
    }
   ],
   "source": [
    "participacoes_acionarias = pd.read_csv('https://dadosabertos.bndes.gov.br/dataset/68a85772-df73-4c8b-8b8c-398f494fcca8/resource/10ff2d60-02d1-4619-8e42-24fc2a5927dd/download/renda-variavel-participacoes-acionarias-historico-da-carteira.csv',\n",
    "    sep=';',\n",
    "    decimal=',')\n",
    "participacoes_acionarias.head()"
   ]
  },
  {
   "cell_type": "code",
   "execution_count": 3,
   "id": "2508dd92-6f9a-4bed-a190-4a42896b30e3",
   "metadata": {},
   "outputs": [
    {
     "name": "stdout",
     "output_type": "stream",
     "text": [
      "<class 'pandas.core.frame.DataFrame'>\n",
      "RangeIndex: 2286 entries, 0 to 2285\n",
      "Data columns (total 13 columns):\n",
      " #   Column                                   Non-Null Count  Dtype  \n",
      "---  ------                                   --------------  -----  \n",
      " 0   sigla                                    2286 non-null   object \n",
      " 1   razao_social                             2286 non-null   object \n",
      " 2   cnpj                                     2285 non-null   object \n",
      " 3   tipo_de_ativo                            2286 non-null   object \n",
      " 4   ano                                      2286 non-null   int64  \n",
      " 5   setor_de_atividade                       2282 non-null   object \n",
      " 6   total_pp                                 2263 non-null   float64\n",
      " 7   on_pp                                    2263 non-null   float64\n",
      " 8   pn_pp                                    2263 non-null   float64\n",
      " 9   aberta_fechada                           2285 non-null   object \n",
      " 10  acordo_de_acionistas_em_vigor            2286 non-null   object \n",
      " 11  indicado_para_conselho_de_administracao  2286 non-null   object \n",
      " 12  indicado_para_conselho_fiscal            2286 non-null   object \n",
      "dtypes: float64(3), int64(1), object(9)\n",
      "memory usage: 232.3+ KB\n"
     ]
    }
   ],
   "source": [
    "participacoes_acionarias.info()"
   ]
  },
  {
   "cell_type": "markdown",
   "id": "c8d3d78c-8dfa-488e-af13-b7d4d34ec171",
   "metadata": {},
   "source": [
    "# Qual a quantidade de participação desde ano?"
   ]
  },
  {
   "cell_type": "code",
   "execution_count": 4,
   "id": "2f911719-9f99-4d2e-ad3b-50d4c9bc5860",
   "metadata": {},
   "outputs": [
    {
     "data": {
      "text/plain": [
       "ano\n",
       "2011    172\n",
       "2009    158\n",
       "2012    157\n",
       "2013    155\n",
       "2010    154\n",
       "2008    145\n",
       "2007    143\n",
       "2014    133\n",
       "2006    130\n",
       "2015    125\n",
       "2016    124\n",
       "2017    108\n",
       "2018    101\n",
       "2019     87\n",
       "2020     87\n",
       "2021     83\n",
       "2023     75\n",
       "2022     75\n",
       "2024     74\n",
       "Name: count, dtype: int64"
      ]
     },
     "execution_count": 4,
     "metadata": {},
     "output_type": "execute_result"
    }
   ],
   "source": [
    "participacoes_acionarias['ano'].value_counts()"
   ]
  },
  {
   "cell_type": "markdown",
   "id": "31ee660f-5dc2-4275-b838-4d0df3dbd5c4",
   "metadata": {},
   "source": [
    "# Em quais empresas BNDESP já teve participações?"
   ]
  },
  {
   "cell_type": "code",
   "execution_count": 5,
   "id": "11a7edc7-0f3b-4b6f-8918-36d81f52bd8c",
   "metadata": {},
   "outputs": [
    {
     "data": {
      "text/plain": [
       "array(['ABICO', 'AÇOS VILLARES', 'AES BRASIL ENER', 'AES COMM RJ',\n",
       "       'AES ELPA', 'AES TE', 'AES TH', 'AES TIETÊ', 'AES TIETÊ ENERG',\n",
       "       'AES URUGUAIANA', 'ÁGUIA', 'ALCOOLQUÍMICA', 'ALFATEST', 'ALTUS',\n",
       "       'ALUPAR', 'AMATA', 'AMATA URBEM', 'AMBEV', 'AMERICANAS',\n",
       "       'AMERICEL', 'ARACRUZ', 'ARCELORMITTAL', 'AUTEL', 'BANCO DO BRASIL',\n",
       "       'BCPAR', 'BEMATECH', 'BERTIN', 'BIO FILL', 'BIOMM', 'BIONNOVATION',\n",
       "       'BLOCKBIT', 'BM&F BOVESPA', 'BNB', 'BOM GOSTO', 'BOMBRIL',\n",
       "       'BR MALLS', 'BRADESCO', 'BRADESPAR', 'BRASAGRO', 'BRASIL FOODS',\n",
       "       'BRASIL TEL PART', 'BRASILIANA PART', 'BRASILINTERPART', 'BRASKEM',\n",
       "       'BRASPÉROLA', 'BRAVA ENERGIA', 'BRICLOG', 'BRQ', 'CADAM',\n",
       "       'CARBOMIL', 'CASA ANGLO', 'CASAL', 'CBD', 'CBO HOLDING', 'CBPAK',\n",
       "       'CCR', 'CCX', 'CEAL', 'CEG', 'CEMIG', 'CEMIG DISTRIB.', 'CEMIG GT',\n",
       "       'CESP', 'CETIP S.A.', 'CHAPECÓ', 'CI&T', 'CIELO', 'CIMETAL',\n",
       "       'CIPHER', 'CLAMPER', 'CLARO', 'COMTEX', 'COMTRAFO', 'COPASA',\n",
       "       'COPEL', 'COSAN', 'COSAN LOG', 'COTEMINAS', 'CPFL ENERGIA',\n",
       "       'CRP CADERI', 'CRSEC', 'CSN', 'CTC', 'CTC/RJ', 'CTTU/RECIFE',\n",
       "       'CTX', 'CYRELA REALTY', 'DETEN', 'DIGITEL', 'EBP',\n",
       "       'ECORODOVIAS INF', 'ELEBRA', 'ELETROACRE', 'ELETROBRÁS',\n",
       "       'ELETROPAULO', 'ELETROPAULO TEL', 'EMAE', 'EMBRAER',\n",
       "       'EMBRATEL OPER.', 'EMBRATEL PART.', 'ENAUTA', 'ENB', 'ENERGISA',\n",
       "       'ENERGISA MT', 'ENEVA', 'ENGIE BRASIL', 'EQUATORIAL', 'ERB',\n",
       "       'FD ETF ICO2', 'FIAGRIL PART.', 'FIBRIA', 'FOTON', 'GAFISA',\n",
       "       'GENOA', 'GERDAU', 'GERDAU MET.', 'GOL', 'GRANBIO', 'GRANO',\n",
       "       'GRAÚNA', 'GRUPO A', 'HIDROVIAS', 'HIGH BRIDGE', 'HOSPITAL FÊMINA',\n",
       "       'HYPERA', 'IBEMA', 'IGUA SANEAMENTO', 'INDEPENDÊNCIA', 'INEPAR',\n",
       "       'INEPAR ENERGIA', 'IOCHPE', 'ITAITUBA', 'ITAÚ UNIBANCO',\n",
       "       'ITAUCORP', 'ITAÚSA', 'ITAUTINGA', 'IVESA', 'JBS', 'KEPLER WEBER',\n",
       "       'KLABIN', 'KLICK NET', 'KOBLITZ', 'KOSMOS', 'LATINA', 'LBR',\n",
       "       'LDC-BIOENERGIA', 'LDC-SEV', 'LIFEMED', 'LIGHT', 'LINX',\n",
       "       'LIQ. PART', 'LLX', 'LOG', 'LORENZ', 'LUPATECH', 'MADEF',\n",
       "       'MAGNESITA REFR.', 'MAGNESITA S.A.', 'MANGELS', 'MARCOPOLO',\n",
       "       'MARFRIG', 'MARLIM', 'MARLIMPAR', 'MECTRON', 'METALFRIO',\n",
       "       'METANOR', 'METRO/SP', 'METRÔ/SP', 'MMX MINERAÇÃO', 'MOBIGROUP',\n",
       "       'MRV', 'MUNDIAL S.A.', 'MWI (ZUM NET)', 'NANOCORE', 'NATURA',\n",
       "       'NESBER', 'NET', 'NETUNO', 'NILZA', 'NORTEC', 'NOVA AMERICA',\n",
       "       'NOVADATA', 'NOVAMARLIMPAR', 'NUTRELLA', 'NUTRIPLANT', 'OCEANA',\n",
       "       'ODEBRECHT AGRO', 'OGP', 'OI', 'OPENCOMMERCE', 'ORBISAT', 'OTP',\n",
       "       'OURO FINO PAR', 'OURO FINO SAUDE', 'PADTEC', 'PADTEC HOLDING',\n",
       "       'PARANAPANEMA', 'PDG REALTY', 'PETROBRAS', 'POLY EASY', 'PORTX',\n",
       "       'PRATICA', 'PRÁTICA PAR', 'PROCABLE', 'PROGEN', 'PRONOR',\n",
       "       'QUALITY SOFT', 'RECEPTA', 'REDE ENERGIA', 'REDECARD', 'REIVAX',\n",
       "       'RELASTOMER', 'RENNER', 'RENOVA', 'RFFSA', 'RIOPOL', 'ROCHA',\n",
       "       'ROMI', 'ROOSTER', 'ROSSI', 'RUMO', 'RUMO LOGÍSTICA', 'SAM',\n",
       "       'SANTANDER', 'SÃO MARTINHO', 'SAPORE', 'SBCE', 'SETAL', 'SINQIA',\n",
       "       'SISA', 'SOROSISTEM', 'SOUZA CRUZ', 'SPRINGER', 'SPRINGS GLOBAL',\n",
       "       'STARA', 'SUNEW', 'SUZANO', 'TAESA', 'TAUM CHEMIE', 'TBM',\n",
       "       'TECNORED', 'TECPAR', 'TECSIS', 'TEIKON', 'TELEBRÁS',\n",
       "       'TELEFÔNICA BR', 'TELEMAR N LESTE', 'TELEMAR PART',\n",
       "       'TELEMIG CEL PAR', 'TELEMIG CELULAR', 'TIM PARTICIP.',\n",
       "       'TNLP (TELEMAR)', 'TOPSPORTS', 'TOTVS', 'TRANS. PAULISTA',\n",
       "       'TRANSNORDESTINA', 'TRANSURB', 'TREVISA', 'TRIUNFO', 'TUPY',\n",
       "       'UNITEC', 'USIMINAS', 'VALE', 'VALEPAR', 'VALLÉE', 'VBC ENERGIA',\n",
       "       'VICUNHA TÊXTIL', 'VIGOR', 'VIVO', 'VLI', 'VSE', 'VULCABRÁS',\n",
       "       'ZENVIA'], dtype=object)"
      ]
     },
     "execution_count": 5,
     "metadata": {},
     "output_type": "execute_result"
    }
   ],
   "source": [
    "participacoes_acionarias.sigla.unique()"
   ]
  },
  {
   "cell_type": "markdown",
   "id": "b311526d-3d71-47b2-8e98-09f25517537b",
   "metadata": {},
   "source": [
    "# Em quais empresas o BNDESP tem participações em 2021?"
   ]
  },
  {
   "cell_type": "code",
   "execution_count": 6,
   "id": "b78ed7bd-e7a1-4da0-9bac-5148af912c73",
   "metadata": {},
   "outputs": [
    {
     "data": {
      "text/plain": [
       "array(['ABICO', 'AES BRASIL ENER', 'AES ELPA', 'ALCOOLQUÍMICA', 'AMATA',\n",
       "       'AMATA URBEM', 'BIOMM', 'BLOCKBIT', 'BOMBRIL', 'BRASAGRO',\n",
       "       'BRASILIANA PART', 'BRASILINTERPART', 'BRASPÉROLA', 'BRQ', 'CADAM',\n",
       "       'CARBOMIL', 'CASA ANGLO', 'CASAL', 'CEG', 'CEMIG', 'CHAPECÓ',\n",
       "       'COPASA', 'COPEL', 'COTEMINAS', 'CSN', 'CTC', 'CTC/RJ',\n",
       "       'CTTU/RECIFE', 'DETEN', 'EBP', 'ELEBRA', 'ELETROBRÁS', 'EMBRAER',\n",
       "       'ENERGISA', 'ENGIE BRASIL', 'ERB', 'GRANBIO', 'HIDROVIAS',\n",
       "       'IGUA SANEAMENTO', 'INDEPENDÊNCIA', 'IOCHPE', 'ITAITUBA',\n",
       "       'ITAUTINGA', 'JBS', 'KOSMOS', 'LBR', 'LIFEMED', 'LORENZ', 'MADEF',\n",
       "       'METANOR', 'METRÔ/SP', 'NESBER', 'NETUNO', 'NILZA', 'NOVA AMERICA',\n",
       "       'NOVADATA', 'OCEANA', 'OI', 'OTP', 'OURO FINO SAUDE',\n",
       "       'PADTEC HOLDING', 'PARANAPANEMA', 'PETROBRAS', 'PRATICA', 'PROGEN',\n",
       "       'QUALITY SOFT', 'RECEPTA', 'RENOVA', 'ROCHA', 'SAM', 'SPRINGER',\n",
       "       'SPRINGS GLOBAL', 'STARA', 'SUNEW', 'TAUM CHEMIE', 'TBM',\n",
       "       'TRANSNORDESTINA', 'TREVISA', 'TRIUNFO', 'TUPY', 'UNITEC', 'VLI',\n",
       "       'VULCABRÁS'], dtype=object)"
      ]
     },
     "execution_count": 6,
     "metadata": {},
     "output_type": "execute_result"
    }
   ],
   "source": [
    "participacoes_acionarias[participacoes_acionarias['ano'] == 2021].sigla.unique()"
   ]
  },
  {
   "cell_type": "code",
   "execution_count": null,
   "id": "9446fc52-8251-4693-b9d0-d457459700ac",
   "metadata": {},
   "outputs": [],
   "source": []
  }
 ],
 "metadata": {
  "kernelspec": {
   "display_name": "Python 3 (ipykernel)",
   "language": "python",
   "name": "python3"
  },
  "language_info": {
   "codemirror_mode": {
    "name": "ipython",
    "version": 3
   },
   "file_extension": ".py",
   "mimetype": "text/x-python",
   "name": "python",
   "nbconvert_exporter": "python",
   "pygments_lexer": "ipython3",
   "version": "3.12.4"
  }
 },
 "nbformat": 4,
 "nbformat_minor": 5
}
